{
 "cells": [
  {
   "cell_type": "markdown",
   "metadata": {},
   "source": [
    "![imagen](./img/ejercicios.png)"
   ]
  },
  {
   "cell_type": "markdown",
   "metadata": {},
   "source": [
    "# Ejercicios Python Basics I"
   ]
  },
  {
   "cell_type": "markdown",
   "metadata": {},
   "source": [
    "## Ejercicio 1\n",
    "1. Escribe el nombre de la calle de tu domicilio en una variable\n",
    "2. Escribe el numero de la calle en otra\n",
    "3. Ciudad en una tercera\n",
    "4. Codigo postal en la cuarta variable\n",
    "5. Crea una quinta variable que concatene todas ellas\n",
    "6. Imprímela por pantalla\n",
    "7. Imprime las 4 variables concatenadas por pantalla sin utilizar la quinta variable"
   ]
  },
  {
   "cell_type": "code",
   "execution_count": 3,
   "metadata": {},
   "outputs": [
    {
     "name": "stdout",
     "output_type": "stream",
     "text": [
      "Eleuterio Villaverde16Basauri48970\n",
      "Eleuterio Villaverde 16 Basauri 48970\n"
     ]
    }
   ],
   "source": [
    "calle = \"Eleuterio Villaverde\"\n",
    "numero = 16\n",
    "ciudad = \"Basauri\"\n",
    "codigo_postal = 48970\n",
    "direccion= calle + str(numero) + ciudad + str(codigo_postal)\n",
    "print(direccion)\n",
    "print(calle, numero, ciudad, codigo_postal)\n"
   ]
  },
  {
   "cell_type": "markdown",
   "metadata": {},
   "source": [
    "## Ejercicio 2\n",
    "Repite el ejercicio 1, pero pidiendo estos datos al usuario en vez de declararlos, imprimiendo a continuación la dirección completa"
   ]
  },
  {
   "cell_type": "code",
   "execution_count": null,
   "metadata": {},
   "outputs": [],
   "source": [
    "calle = input(\"Escribe el nombre de tu calle: \")\n",
    "numero = input(\"Escribe tu número: \")\n",
    "ciudad = input(\"Escribe tu ciudad: \")\n",
    "codigo_postal = input (\"Escribe tu codigo postal: \")\n",
    "print(\"Tu dirección es: \", calle, numero, ciudad, codigo_postal)"
   ]
  },
  {
   "cell_type": "markdown",
   "metadata": {},
   "source": [
    "## Ejercicio 3\n",
    "¿Qué variables están mal escritas y por qué? Realiza primero tu hipótesis y luego ejecuta las variables para comprobarlo. En ese orden :)\n",
    "\n",
    "\n",
    "1. mi_variable = \"Economía\"\n",
    "2. otra_var = \"Ejercicio\n",
    "3. True = \"Ejercicio\"\n",
    "4. mi variab1e = \"Alpha\"\n",
    "5. import = 40\n",
    "6. 81mi_variable = \"Agua\"\n",
    "7. mi_variable10 = 6"
   ]
  },
  {
   "cell_type": "markdown",
   "metadata": {},
   "source": [
    "1. Correcto\n",
    "2. Mal, falta cerrar string\n",
    "3. Palabra reservada True\n",
    "4. Espacio en el nombre de la variable\n",
    "5. import = 40 Mal porque es una palabra reservada\n",
    "6. Nombre variable no empieza por número\n",
    "7. Ok"
   ]
  },
  {
   "cell_type": "code",
   "execution_count": null,
   "metadata": {},
   "outputs": [],
   "source": [
    "# 1. esta bien\n",
    "# 2. le falta cerrar las comillas\n",
    "otra_var=\"Ejecicio\"\n",
    "# 3. True es una palabra reservada de lenguaje python por lo que no se puede utlizar como nombre de variable\n",
    "truer=\"ejercicio\"\n",
    "# 4. No se puede poner espacios en variables solo barras bajas\n",
    "mi_variable= \"Alpha\"\n",
    "#5. import es una palabla reservada \n",
    "importante=40\n",
    "# 6. NO puede empezar por un numero una variable\n",
    "mi_variable_89= \"agua\"\n",
    "# 7. Esta bien"
   ]
  },
  {
   "cell_type": "markdown",
   "metadata": {},
   "source": [
    "## Ejercicio 4\n",
    "Realiza un conversor de grados Celsius a Fahrenheit. El conversor tiene que recibir el input del usuario y devolver la conversión.\n",
    "\n",
    "La conversión de grados sigue la siguiente fórmula: F = C × (9 / 5) + 32 "
   ]
  },
  {
   "cell_type": "code",
   "execution_count": null,
   "metadata": {},
   "outputs": [],
   "source": [
    "print(\"bienvenido al conversor de grados Celsius a Fahrenheit\")\n",
    "cel=int(float(input(\"Introduce los grados Celsius: \")))\n",
    "far = cel * (9/5) + 32\n",
    "print(f\"{far} grados Fahrenheit\")"
   ]
  },
  {
   "cell_type": "markdown",
   "metadata": {},
   "source": [
    "## Ejercicio 5\n",
    "Comenta  el Ejercicio 4. Pon un comentario multilinea y haz comentarios de cada linea de código"
   ]
  },
  {
   "cell_type": "code",
   "execution_count": null,
   "metadata": {},
   "outputs": [],
   "source": [
    "\"\"\"Esto es un conversor\n",
    "    convierte grados Celsius a Fahrenheit\"\"\"\n",
    "print(\"bienvenido al conversor de grados Celsius a Fahrenheit\")#bienvenida al programa\n",
    "#utilizamos la variable cel para introducir los grados\n",
    "cel=int(float(input(\"Introduce los grados Celsius: \")))\n",
    "#formula de conversión \n",
    "far = cel * (9/5) + 32\n",
    "print(f\"{far} grados Fahrenheit\")#imprimimos resultado"
   ]
  }
 ],
 "metadata": {
  "kernelspec": {
   "display_name": "Python 3",
   "language": "python",
   "name": "python3"
  },
  "language_info": {
   "codemirror_mode": {
    "name": "ipython",
    "version": 3
   },
   "file_extension": ".py",
   "mimetype": "text/x-python",
   "name": "python",
   "nbconvert_exporter": "python",
   "pygments_lexer": "ipython3",
   "version": "3.10.6"
  },
  "nbTranslate": {
   "displayLangs": [
    "*"
   ],
   "hotkey": "alt-t",
   "langInMainMenu": true,
   "sourceLang": "en",
   "targetLang": "fr",
   "useGoogleTranslate": true
  },
  "varInspector": {
   "cols": {
    "lenName": 16,
    "lenType": 16,
    "lenVar": 40
   },
   "kernels_config": {
    "python": {
     "delete_cmd_postfix": "",
     "delete_cmd_prefix": "del ",
     "library": "var_list.py",
     "varRefreshCmd": "print(var_dic_list())"
    },
    "r": {
     "delete_cmd_postfix": ") ",
     "delete_cmd_prefix": "rm(",
     "library": "var_list.r",
     "varRefreshCmd": "cat(var_dic_list()) "
    }
   },
   "types_to_exclude": [
    "module",
    "function",
    "builtin_function_or_method",
    "instance",
    "_Feature"
   ],
   "window_display": false
  },
  "vscode": {
   "interpreter": {
    "hash": "916dbcbb3f70747c44a77c7bcd40155683ae19c65e1c03b4aa3499c5328201f1"
   }
  }
 },
 "nbformat": 4,
 "nbformat_minor": 4
}
