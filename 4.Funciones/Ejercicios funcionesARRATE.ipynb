{
 "cells": [
  {
   "cell_type": "markdown",
   "metadata": {},
   "source": [
    "![imagen](./img/ejercicios.png)"
   ]
  },
  {
   "cell_type": "markdown",
   "metadata": {},
   "source": [
    "# Ejercicios funciones\n",
    "## Ejercicio 1\n",
    "Escribe una función que convierta números del 1 al 7 en nombres de los dias de la semana. La función constará de un único argumento numérico y una salida de tipo string"
   ]
  },
  {
   "cell_type": "code",
   "execution_count": 45,
   "metadata": {},
   "outputs": [
    {
     "data": {
      "text/plain": [
       "'Lunes'"
      ]
     },
     "execution_count": 45,
     "metadata": {},
     "output_type": "execute_result"
    }
   ],
   "source": [
    "def dia_semana(dias_numero):\n",
    "    dias = { 1: \"Lunes\", 2: \"Martes\", 3: \"Miercoes\", 4:\"Jueves\", 5: \"Viernes\", 6: \"Sabado\", 7: \"Domingo\"}\n",
    "    if dias_numero in dias:\n",
    "        return dias[dias_numero]\n",
    "    else:\n",
    "        print(\"numero incorrecto\")\n",
    "dia_semana(1)"
   ]
  },
  {
   "cell_type": "code",
   "execution_count": 17,
   "metadata": {},
   "outputs": [
    {
     "data": {
      "text/plain": [
       "'Lunes'"
      ]
     },
     "execution_count": 17,
     "metadata": {},
     "output_type": "execute_result"
    }
   ],
   "source": [
    "def dia_semana(*dias_numero):\n",
    "    dias = [\"Lunes\", \"Martes\", \"Miercoles\", \"Jueves\", \"Viernes\", \"Sabado\", \"Domingo\"]\n",
    "    for i in dias_numero:\n",
    "        return dias[i - 1]\n",
    "dia_semana(1) "
   ]
  },
  {
   "cell_type": "code",
   "execution_count": 23,
   "metadata": {},
   "outputs": [
    {
     "name": "stdout",
     "output_type": "stream",
     "text": [
      "numero incorrecto\n"
     ]
    }
   ],
   "source": [
    "def dia_semana():\n",
    "    dias_numero = int(input(\"Introduce un numero del 1 al 7: \"))\n",
    "    dias = { 1: \"Lunes\", 2: \"Martes\", 3: \"Miercoes\", 4:\"Jueves\", 5: \"Viernes\", 6: \"Sabado\", 7: \"Domingo\"}\n",
    "    if dias_numero in dias:\n",
    "        return dias[dias_numero]\n",
    "    else:\n",
    "        print(\"numero incorrecto\")\n",
    "dia_semana()"
   ]
  },
  {
   "cell_type": "markdown",
   "metadata": {},
   "source": [
    "## Ejercicio 2\n",
    "En el ejercicio 8 de flujos de control, creábamos una pirámide invertida de números desde el 5. Crea una función que replique el comportamiento de la pirámide, y utiliza un único parámetro de entrada de la función para determinar el número de filas de la pirámide."
   ]
  },
  {
   "cell_type": "code",
   "execution_count": 50,
   "metadata": {},
   "outputs": [
    {
     "name": "stdout",
     "output_type": "stream",
     "text": [
      "6 5 4 3 2 1 \n",
      "5 4 3 2 1 \n",
      "4 3 2 1 \n",
      "3 2 1 \n",
      "2 1 \n",
      "1 \n"
     ]
    }
   ],
   "source": [
    "def piramide(num_filas):\n",
    "    lista_8 = list(range(num_filas,0,-1))\n",
    "    while len(lista_8)>=1:\n",
    "        for i in lista_8:\n",
    "            print(i,end=\" \")\n",
    "        print()\n",
    "        lista_8.pop(0)\n",
    "piramide(6)"
   ]
  },
  {
   "cell_type": "markdown",
   "metadata": {},
   "source": [
    "## Ejercicio 3\n",
    "Escribe una función que compare dos números. La función tiene dos argumentos y hay tres salidas posibles: que sean iguales, que el primero sea  mayor que el segundo, o que el segundo sea mayor que el primero"
   ]
  },
  {
   "cell_type": "code",
   "execution_count": 27,
   "metadata": {},
   "outputs": [
    {
     "name": "stdout",
     "output_type": "stream",
     "text": [
      "Son iguales\n"
     ]
    }
   ],
   "source": [
    "def comparacion(a, b):\n",
    "    if a == b:\n",
    "        print(\"Son iguales\")\n",
    "    elif a > b:\n",
    "        print(\"El primer valor es mayor que el segundo\")\n",
    "    else:\n",
    "        print(\"El primer valor es menor que el\")\n",
    "comparacion(3,3)"
   ]
  },
  {
   "cell_type": "markdown",
   "metadata": {},
   "source": [
    "## Ejercicio 4\n",
    "Escribe una función que sea un contador de letras. En el primer argumento tienes que introducir un texto, y el segundo que sea una letra que contar. La función tiene que devolver un entero con el número de veces que aparece esa letra, tanto mayuscula, como minúscula"
   ]
  },
  {
   "cell_type": "code",
   "execution_count": 1,
   "metadata": {},
   "outputs": [
    {
     "data": {
      "text/plain": [
       "4"
      ]
     },
     "execution_count": 1,
     "metadata": {},
     "output_type": "execute_result"
    }
   ],
   "source": [
    "def contador(palabra, letra):\n",
    "    j = 0\n",
    "    for i in palabra:\n",
    "        if i == letra or i == letra.upper():\n",
    "            j += 1\n",
    "    return j\n",
    "contador(\"MamtiMom\", \"m\")"
   ]
  },
  {
   "cell_type": "code",
   "execution_count": 3,
   "metadata": {},
   "outputs": [
    {
     "data": {
      "text/plain": [
       "4"
      ]
     },
     "execution_count": 3,
     "metadata": {},
     "output_type": "execute_result"
    }
   ],
   "source": [
    "def contador(palabra, letra):\n",
    "    j = 0\n",
    "    palabra = palabra.lower()\n",
    "    letra = letra.lower()\n",
    "    for i in palabra:\n",
    "        if i == letra:\n",
    "            j += 1\n",
    "    return j\n",
    "contador(\"MamtiMom\", \"m\")"
   ]
  },
  {
   "cell_type": "markdown",
   "metadata": {},
   "source": [
    "## Ejercicio 5\n",
    "Escribe una función que tenga un único argumento, un string. La salida de la función tiene que ser un diccionario con el conteo de todas las letras de ese string, siendo la clave la letra y el valor el conteo."
   ]
  },
  {
   "cell_type": "code",
   "execution_count": 2,
   "metadata": {},
   "outputs": [
    {
     "data": {
      "text/plain": [
       "{'h': 0, 'o': 1, 'l': 2, 'a': 3}"
      ]
     },
     "execution_count": 2,
     "metadata": {},
     "output_type": "execute_result"
    }
   ],
   "source": [
    "# NO ME PIDEN ESTO\n",
    "def ejr_5(string):\n",
    "    output = {}\n",
    "    for i, j in enumerate(string):\n",
    "        output[j] = i\n",
    "    return output\n",
    "\n",
    "ejr_5(\"hola\")   "
   ]
  },
  {
   "cell_type": "code",
   "execution_count": 6,
   "metadata": {},
   "outputs": [
    {
     "name": "stdout",
     "output_type": "stream",
     "text": [
      "{'h': 1, 'o': 1, 'l': 1, 'a': 1}\n"
     ]
    }
   ],
   "source": [
    "def ejr_5_2(string):\n",
    "    dic = {}\n",
    "    for i in string:\n",
    "        if i not in dic.keys():\n",
    "            dic[i] = 1\n",
    "        else:\n",
    "            dic[i] = dic[i] + 1\n",
    "    print(dic)\n",
    "ejr_5_2(\"hola\")"
   ]
  },
  {
   "cell_type": "markdown",
   "metadata": {},
   "source": [
    "## Ejercicio 6\n",
    "Escribir una función que añada o elimine elementos en una lista. La función necesita los siguientes argumentos:\n",
    "* lista: la lista donde se añadirán o eliminarán los elementos\n",
    "* comando: \"add\" o \"remove\"\n",
    "* elemento: Por defecto es None.\n",
    "\n",
    "Tendrá como salida la lista"
   ]
  },
  {
   "cell_type": "code",
   "execution_count": 82,
   "metadata": {},
   "outputs": [
    {
     "data": {
      "text/plain": [
       "['1', '2']"
      ]
     },
     "execution_count": 82,
     "metadata": {},
     "output_type": "execute_result"
    }
   ],
   "source": [
    "def modificar (lista, comando, elemento=None):\n",
    "     if comando == \"add\" and elemento:\n",
    "        lista.append(elemento)\n",
    "        return lista\n",
    "     elif comando == \"remove\" and elemento:\n",
    "        lista.remove(elemento)\n",
    "        return lista\n",
    "     else:\n",
    "         return lista\n",
    "\n",
    "modificar([\"1\", \"2\"], \"remove\", )"
   ]
  },
  {
   "cell_type": "markdown",
   "metadata": {},
   "source": [
    "## Ejercicio 7\n",
    "Crea una función que reciba un número arbitrario de palabras, y devuelva una frase completa, separando las palabras con espacios."
   ]
  },
  {
   "cell_type": "code",
   "execution_count": 89,
   "metadata": {},
   "outputs": [
    {
     "data": {
      "text/plain": [
       "'hola que tal '"
      ]
     },
     "execution_count": 89,
     "metadata": {},
     "output_type": "execute_result"
    }
   ],
   "source": [
    "def ejr_7(*palabras):\n",
    "    string = \"\"\n",
    "    for i in palabras:\n",
    "        string += i +\" \"\n",
    "    return string\n",
    "\n",
    "ejr_7(\"hola\", \"que\", \"tal\")"
   ]
  },
  {
   "cell_type": "markdown",
   "metadata": {},
   "source": [
    "## Ejercicio 8\n",
    "Escribe un programa que obtenga el enésimo número de la [serie de Fibonacci](https://es.wikipedia.org/wiki/Sucesi%C3%B3n_de_Fibonacci). Tienes que crear una función recursiva con un único argumento.\n",
    "\n",
    "```Python\n",
    "fibonacci(2) = 1\n",
    "fibonacci(4) = 3\n",
    "fibonacci(5) = 5\n",
    "fibonacci(8) = 21\n",
    "```"
   ]
  },
  {
   "cell_type": "code",
   "execution_count": null,
   "metadata": {},
   "outputs": [],
   "source": []
  },
  {
   "cell_type": "markdown",
   "metadata": {},
   "source": [
    "## Ejercicio 9\n",
    "Define en una única celda las siguientes funciones:\n",
    "* Función que calcule el área de un cuadrado\n",
    "* Función que calcule el area de un triángulo\n",
    "* Función que calcule el área de un círculo\n",
    "\n",
    "En otra celda, calcular el area de:\n",
    "* Dos círculos de radio 10 + un triángulo de base 3 y altura 7\n",
    "* Un cuadrado de lado = 10 + 3 círculos (uno de radio = 4 y los otros dos de radio = 6) + 5 triángulos de base = 2 + altura = 4"
   ]
  },
  {
   "cell_type": "code",
   "execution_count": 123,
   "metadata": {},
   "outputs": [],
   "source": [
    "import math\n",
    "\n",
    "def area_cuadrado(lado):\n",
    "    return lado ** 2\n",
    "\n",
    "def area_triangulo(base, altura):\n",
    "    return (base * altura) / 2\n",
    "\n",
    "def area_circulo(radio):\n",
    "    return math.pi * radio ** 2\n"
   ]
  },
  {
   "cell_type": "code",
   "execution_count": 124,
   "metadata": {},
   "outputs": [
    {
     "name": "stdout",
     "output_type": "stream",
     "text": [
      "El area total es 638.8185307179587\n",
      "El area total es 82079.41955235401\n"
     ]
    }
   ],
   "source": [
    "#Dos círculos de radio 10 + un triángulo de base 3 y altura 7\n",
    "radio_circulos = 10\n",
    "base_triangulo = 3\n",
    "altura_triangulo = 7\n",
    "\n",
    "area_circulo1 = area_circulo(radio_circulos)\n",
    "area_circulo2 = area_circulo(radio_circulos)\n",
    "area_triangulo1 = area_triangulo(base_triangulo, altura_triangulo)\n",
    "\n",
    "print(f\"El area total es {area_circulo1 + area_circulo2 + area_triangulo1}\")\n",
    "\n",
    "# Un cuadrado de lado = 10 + 3 círculos (uno de radio = 4 y los otros dos de radio = 6) + 5 triángulos de base = 2 + altura = 4\n",
    "lado_cuadrado = 10 + (area_circulo(4) + 2*area_circulo(6))\n",
    "base_triangulos = 2\n",
    "altura_triangulos = 4\n",
    "\n",
    "area_cuadrado1 = area_cuadrado(lado_cuadrado)\n",
    "area_triangulos = area_triangulo(base_triangulos, altura_triangulos)\n",
    "area_total = area_cuadrado1 + 5*area_triangulos\n",
    "print(f\"El area total es {area_total}\")\n",
    "\n"
   ]
  }
 ],
 "metadata": {
  "kernelspec": {
   "display_name": "Python 3",
   "language": "python",
   "name": "python3"
  },
  "language_info": {
   "codemirror_mode": {
    "name": "ipython",
    "version": 3
   },
   "file_extension": ".py",
   "mimetype": "text/x-python",
   "name": "python",
   "nbconvert_exporter": "python",
   "pygments_lexer": "ipython3",
   "version": "3.7.4"
  },
  "vscode": {
   "interpreter": {
    "hash": "aee8b7b246df8f9039afb4144a1f6fd8d2ca17a180786b69acc140d282b71a49"
   }
  }
 },
 "nbformat": 4,
 "nbformat_minor": 4
}
