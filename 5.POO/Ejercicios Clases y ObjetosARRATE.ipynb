{
 "cells": [
  {
   "cell_type": "markdown",
   "metadata": {},
   "source": [
    "![imagen](./img/ejercicios.png)\n",
    "\n",
    "# Ejercicios Clases y Objetos"
   ]
  },
  {
   "cell_type": "markdown",
   "metadata": {},
   "source": [
    "## Ejercicio 1\n",
    "Somos una empresa que tiene varias tiendas de electrodomesticos. Necesitamos un programa para manejar las tiendas, ver las ventas que han tenido, cuántos empleados hay, etc... Para ello vamos a modelizar la tienda en una clase, que tendrá las siguientes características:\n",
    "* Nombre clase: \"Tienda\"\n",
    "* Atributos comunes:\n",
    "    * Tipo: \"Electrodomésticos\"\n",
    "    * Abierta: True\n",
    "* Atributos propios de cada tienda:\n",
    "    * Nombre - String\n",
    "    * Dirección - String\n",
    "    * Número de empleados - int\n",
    "    * Ventas ultimos 3 meses - Lista de 3 numeros\n",
    "* Método para calcular las ventas de todos los meses, que devuelva un numero con todas las ventas.\n",
    "* Método que calcula la media de ventas de los últimos meses, por empleado\n",
    "* Método que devuelve en un string el nombre de la tienda, junto con su dirección.\n",
    "* Método que obtiene las ventas del último mes.\n",
    "* Método para dar una proyección de las ventas en caso de haber invertido X dinero en marketing en esa tienda. Siendo X el parámetro de entrada. Si X es menor de 1000, las ventas de los ultimos 3 meses hubiesen sido de (1.2 x ventas), si es mayor o igual de 1000, las ventas hubiesen sido de (1.5 x venta). El método reescribe el atributo de ventas en los últimos 3 meses, y además devuelve las ventas con el aumento.\n",
    "\n",
    "Se pide:\n",
    "1. Implementar la clase \"Tienda\"\n",
    "2. Crear tres tiendas con datos inventados\n",
    "3. Comprueba en al menos una de ellas, todo lo implementado en la clase tienda (sus atributos, media de ventas, ventas/empleado...)\n",
    "3. Calcular las ventas del último mes de todas las tiendas. Para ello usa el bucle `for`\n",
    "4. Imprime por pantalla los nombres de las tiendas cuya dirección lleve el string \"Avenida\"\n",
    "5. Seguro que ya has hecho este apartado... Documenta la clase :)"
   ]
  },
  {
   "cell_type": "code",
   "execution_count": 90,
   "metadata": {},
   "outputs": [
    {
     "name": "stdout",
     "output_type": "stream",
     "text": [
      "<class 'type'>\n",
      "Electrodomésticos\n",
      "True\n",
      "{'nombre': 'MD', 'direccion': 'Iparaguirre 50', 'num_empleados': 4, 'ventas': [19000, 20000, 36000]}\n",
      "75000\n",
      "18750.0\n",
      "MD Iparaguirre 50\n",
      "36000\n",
      "90000.0\n",
      "La tienda Pili ha vendido 9000 en el último mes\n"
     ]
    },
    {
     "ename": "TypeError",
     "evalue": "'float' object is not subscriptable",
     "output_type": "error",
     "traceback": [
      "\u001b[0;31m---------------------------------------------------------------------------\u001b[0m",
      "\u001b[0;31mTypeError\u001b[0m                                 Traceback (most recent call last)",
      "Cell \u001b[0;32mIn[90], line 46\u001b[0m\n\u001b[1;32m     44\u001b[0m \u001b[39m#4\u001b[39;00m\n\u001b[1;32m     45\u001b[0m \u001b[39mfor\u001b[39;00m i \u001b[39min\u001b[39;00m [pili, md, oka]:\n\u001b[0;32m---> 46\u001b[0m     ventas \u001b[39m=\u001b[39m i\u001b[39m.\u001b[39;49mventas_mes()\n\u001b[1;32m     47\u001b[0m     \u001b[39mprint\u001b[39m(\u001b[39mf\u001b[39m\u001b[39m\"\u001b[39m\u001b[39mLa tienda \u001b[39m\u001b[39m{\u001b[39;00mi\u001b[39m.\u001b[39mnombre\u001b[39m}\u001b[39;00m\u001b[39m ha vendido \u001b[39m\u001b[39m{\u001b[39;00mventas\u001b[39m}\u001b[39;00m\u001b[39m en el último mes\u001b[39m\u001b[39m\"\u001b[39m)\n\u001b[1;32m     48\u001b[0m \u001b[39m#5\u001b[39;00m\n",
      "Cell \u001b[0;32mIn[90], line 21\u001b[0m, in \u001b[0;36mTienda.ventas_mes\u001b[0;34m(self)\u001b[0m\n\u001b[1;32m     20\u001b[0m \u001b[39mdef\u001b[39;00m \u001b[39mventas_mes\u001b[39m(\u001b[39mself\u001b[39m):\u001b[39m#ventas ultimo mes\u001b[39;00m\n\u001b[0;32m---> 21\u001b[0m         \u001b[39mreturn\u001b[39;00m (\u001b[39mint\u001b[39m(\u001b[39mself\u001b[39;49m\u001b[39m.\u001b[39;49mventas[\u001b[39m-\u001b[39;49m\u001b[39m1\u001b[39;49m]))\n",
      "\u001b[0;31mTypeError\u001b[0m: 'float' object is not subscriptable"
     ]
    }
   ],
   "source": [
    "class Tienda:\n",
    "    '''\n",
    "    La clase tienda recoge diferente información\n",
    "    con esa informacion podemos realizar diferentes metodos\n",
    "    '''\n",
    "    tipo = \"Electrodomésticos\"\n",
    "    abierta = True\n",
    "\n",
    "    def __init__(self, nombre: str, direccion: str, num_empledos: int, ventas:list):\n",
    "        self.nombre = nombre\n",
    "        self.direccion = direccion\n",
    "        self.num_empleados = num_empledos\n",
    "        self.ventas = ventas# ventas los ultimos tres meses[lista de 3 numeros]\n",
    "    def ventas_totales(self):\n",
    "        return sum(self.ventas)\n",
    "    def media_ventas(self):#por empleado\n",
    "        return sum(self.ventas) / self.num_empleados\n",
    "    def direccion_tienda(self):#str =tienda + direccion\n",
    "        return self.nombre + \" \" + self.direccion\n",
    "    def ventas_mes(self):#ventas ultimo mes\n",
    "            return self.ventas[-1]\n",
    "    def proyeccion_ventas(self, dinero_invertido):\n",
    "        if dinero_invertido < 1000:\n",
    "            self.ventas = sum(self.ventas) * 1.2\n",
    "        else:\n",
    "            self.ventas = sum(self.ventas) * 1.5\n",
    "        return self.ventas\n",
    "\n",
    "#1\n",
    "print(type(Tienda))\n",
    "#2\n",
    "pili = Tienda(\"Pili\", \"Gernika 12\", 2, [10000, 12000, 9000])\n",
    "md = Tienda(\"MD\", \"Iparaguirre 50\", 4, [19000, 20000, 36000])\n",
    "oka = Tienda(\"OKA\", \"Camilo Villabaso 16\", 3, [100000, 125000, 149000])\n",
    "#3\n",
    "print(md.tipo)\n",
    "print(md.abierta)\n",
    "print(md.__dict__)\n",
    "print(md.ventas_totales())\n",
    "print(md.media_ventas())\n",
    "print(md.direccion_tienda())\n",
    "print(md.ventas_mes())\n",
    "print(md.proyeccion_ventas(500))\n",
    "#4\n",
    "for i in [pili, md, oka]:\n",
    "    ventas = i.ventas_mes()\n",
    "    print(f\"La tienda {i.nombre} ha vendido {ventas} en el último mes\")\n",
    "    # TypeError: 'float' object is not subscriptable.\n",
    "    # Este error ocurre cuando intentas utilizar la\n",
    "    # sintaxis de indexación (usando corchetes) en un objeto de tipo float\n",
    "    #NO HE PODIDO ARREGLARLO\n",
    "#5\n",
    "for i in [pili, md, oka]:\n",
    "    if \"Avenida\" in i.direccion:\n",
    "        print(f\"La tienda que esta en una avenida es {i.nombre}\")\n",
    "#6\n",
    "print(Tienda.__doc__)\n"
   ]
  },
  {
   "cell_type": "markdown",
   "metadata": {},
   "source": [
    "## Ejercicio 2\n",
    "En este ejercicio vamos a implementar una clase *Perro* en Python. La clase tiene las siguientes características:\n",
    "* Cosas que sabemos seguro que tiene un perro\n",
    "    * Tiene 4 patas\n",
    "    * 2 orejas\n",
    "    * 2 ojos\n",
    "    * Una velocidad de 0. Por defecto, el perro está parado\n",
    "* Cuando se inicialice:\n",
    "    * El perro será de una determinada raza\n",
    "    * Por defecto tendrá pelo \"Marrón\", a no ser que se diga lo contrario.\n",
    "    * Por defecto no tendrá dueño, a no ser que se diga lo contrario.\n",
    "    \n",
    "* Dispondrá también de un método llamado andar, que tiene un argumento de entrada (aumento_velocidad). Este valor se le sumará a la velocidad que ya llevaba el perro.\n",
    "* Necesita otro método (parar), donde pondremos la velocidad a 0.\n",
    "* Otro método llamado \"ladrar\", que tendrá un argumento de entrada, y la salida será el siguiente string: \"GUAU!\" + el argumento de entrada.\n",
    "\n",
    "\n",
    "Se pide:\n",
    "* Implementa la clase *Perro*\n",
    "* Crea un objeto de tipo *Perro*, sin dueño\n",
    "* Comprueba que están bien todos sus atributos\n",
    "* Prueba que ande, y comprueba su velocidad\n",
    "* Páralo\n",
    "* Documenta la clase *Perro*"
   ]
  },
  {
   "cell_type": "code",
   "execution_count": 73,
   "metadata": {},
   "outputs": [
    {
     "name": "stdout",
     "output_type": "stream",
     "text": [
      "{'raza': 'podenco', 'pelo': 'paja', 'dueño': None}\n",
      "4\n",
      "2\n",
      "2\n",
      "El perro va a 10 km/h\n",
      "10\n",
      "El perro ha parado\n",
      "0\n",
      "\n",
      "    La clase perro tiene varias caracteristicas en comun: patas, orejas y ojos.\n",
      "    También podemos atribuirle algunas caracteristicas como raza, color del pelo y el dueño\n",
      "    La clase perro puede andar, parar y ladrar\n",
      "    \n"
     ]
    }
   ],
   "source": [
    "class Perro:\n",
    "    '''\n",
    "    La clase perro tiene varias caracteristicas en comun: patas, orejas y ojos.\n",
    "    También podemos atribuirle algunas caracteristicas como raza, color del pelo y el dueño\n",
    "    La clase perro puede andar, parar y ladrar\n",
    "    '''\n",
    "    patas = 4\n",
    "    orejas = 2\n",
    "    ojos = 2\n",
    "    velocidad = 0\n",
    "\n",
    "    def __init__(self, raza, pelo = \"marron\", dueño = None):\n",
    "        self.raza = raza\n",
    "        self.pelo = pelo\n",
    "        self.dueño = dueño\n",
    "    def andar (self, aumento_velocidad):\n",
    "        self.velocidad = aumento_velocidad\n",
    "        return(f\"El perro va a {self.velocidad} km/h\")\n",
    "    def parar (self):\n",
    "        self.velocidad = 0\n",
    "        return(\"El perro ha parado\")\n",
    "    def ladrar (self, ladra):\n",
    "        print(f\"GUAU! {ladra}\")\n",
    "\n",
    "#2\n",
    "Kira = Perro(\"podenco\", \"paja\")\n",
    "#3\n",
    "print(Kira.__dict__)\n",
    "print(Kira.patas)\n",
    "print(Kira.orejas)\n",
    "print(Kira.ojos)\n",
    "#4\n",
    "print(Kira.andar(10))\n",
    "#/h en azul\n",
    "print(Kira.velocidad)\n",
    "# 5\n",
    "print(Kira.parar())\n",
    "print(Kira.velocidad)\n",
    "#6\n",
    "print(Perro.__doc__)\n",
    "\n"
   ]
  }
 ],
 "metadata": {
  "kernelspec": {
   "display_name": "Python 3",
   "language": "python",
   "name": "python3"
  },
  "language_info": {
   "codemirror_mode": {
    "name": "ipython",
    "version": 3
   },
   "file_extension": ".py",
   "mimetype": "text/x-python",
   "name": "python",
   "nbconvert_exporter": "python",
   "pygments_lexer": "ipython3",
   "version": "3.7.4"
  },
  "vscode": {
   "interpreter": {
    "hash": "1e989a6a87260c027f3014f78a3a3d191394072689c96a40223c8499353d25ee"
   }
  }
 },
 "nbformat": 4,
 "nbformat_minor": 4
}
