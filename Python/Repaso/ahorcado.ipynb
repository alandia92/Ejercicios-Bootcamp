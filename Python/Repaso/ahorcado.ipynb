{
 "cells": [
  {
   "cell_type": "markdown",
   "metadata": {},
   "source": [
    "## Juego del Ahorcado\n",
    "El funcionamiento es que vaya mostrando por pantalla ```_ _ _ _ _``` las rayas bajas correspondientes al número de letras que tiene la palabra a adivinar. El usuario deberá insertar una letra y, si esa letra existe, se mostrará o mostrarán las letras acertadas ```S _ S _ _```. \n",
    "\n",
    "Si falla, se mostrará el número de errores que lleva y, si lleva 6 errores, entonces se mostrará \"Fin del juego\".\n",
    "Encapsúlalo en una función."
   ]
  },
  {
   "cell_type": "code",
   "execution_count": 10,
   "metadata": {},
   "outputs": [
    {
     "name": "stdout",
     "output_type": "stream",
     "text": [
      "BBBBBBBB\n",
      "Intentalo de nuevo\n",
      "Intentalo de nuevo\n"
     ]
    }
   ],
   "source": [
    "\n",
    "    \n"
   ]
  },
  {
   "cell_type": "code",
   "execution_count": 6,
   "metadata": {},
   "outputs": [],
   "source": [
    "\n",
    "\n",
    "    "
   ]
  }
 ],
 "metadata": {
  "kernelspec": {
   "display_name": "Python 3",
   "language": "python",
   "name": "python3"
  },
  "language_info": {
   "codemirror_mode": {
    "name": "ipython",
    "version": 3
   },
   "file_extension": ".py",
   "mimetype": "text/x-python",
   "name": "python",
   "nbconvert_exporter": "python",
   "pygments_lexer": "ipython3",
   "version": "3.10.6"
  },
  "orig_nbformat": 4,
  "vscode": {
   "interpreter": {
    "hash": "916dbcbb3f70747c44a77c7bcd40155683ae19c65e1c03b4aa3499c5328201f1"
   }
  }
 },
 "nbformat": 4,
 "nbformat_minor": 2
}
